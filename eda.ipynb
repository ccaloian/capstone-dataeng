{
    "cells": [
        {
            "cell_type": "markdown",
            "source": [
                "# Exploratory Data Analysis\n",
                "\n",
                "In this notebook some initial exploratory data analysis are performed. In particular, we are interested in the number of `null` values per column and the number of duplicated rows."
            ],
            "metadata": {}
        },
        {
            "cell_type": "code",
            "execution_count": null,
            "source": [],
            "outputs": [],
            "metadata": {}
        },
        {
            "cell_type": "markdown",
            "source": [],
            "metadata": {}
        }
    ],
    "metadata": {
        "orig_nbformat": 4,
        "language_info": {
            "name": "python"
        }
    },
    "nbformat": 4,
    "nbformat_minor": 2
}