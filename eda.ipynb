{
    "cells": [
        {
            "cell_type": "markdown",
            "source": [
                "# Exploratory Data Analysis\n",
                "\n",
                "In this notebook some initial exploratory data analysis are performed. In particular, we are interested in the number of `null` values per column and the number of duplicated rows."
            ],
            "metadata": {}
        },
        {
            "cell_type": "markdown",
            "source": [
                "## Import required modules"
            ],
            "metadata": {}
        },
        {
            "cell_type": "code",
            "execution_count": 1,
            "source": [
                "from pyspark.sql import SparkSession\n",
                "from pyspark.sql.types import StringType, IntegerType, StructType, StructField\n",
                "import pyspark.sql.functions as F\n",
                "import dataio"
            ],
            "outputs": [],
            "metadata": {}
        },
        {
            "cell_type": "markdown",
            "source": [
                "## Create SparkSession"
            ],
            "metadata": {}
        },
        {
            "cell_type": "code",
            "execution_count": 20,
            "source": [
                "spark = (SparkSession.builder\n",
                "            .master(\"local[*]\")\n",
                "            .appName(\"EDA\")\n",
                "            .config(\"spark.jars.packages\", \"org.apache.hadoop:hadoop-aws:2.7.0\")\n",
                "            .getOrCreate()\n",
                ")\n",
                "\n",
                "spark.sparkContext.setLogLevel(\"ERROR\")"
            ],
            "outputs": [],
            "metadata": {}
        },
        {
            "cell_type": "markdown",
            "source": [
                "## Read US demographics data"
            ],
            "metadata": {}
        },
        {
            "cell_type": "code",
            "execution_count": 6,
            "source": [
                "dem = dataio.read_demographics_raw(spark, \"./data/raw/demographics/us-cities-demographics.csv\")\n",
                "\n",
                "print(f\"{dem.count():,} rows\")\n",
                "print(f\"{len(dem.columns)} columns\")\n",
                "print()\n",
                "print(dem.columns)"
            ],
            "outputs": [
                {
                    "output_type": "stream",
                    "name": "stdout",
                    "text": [
                        "2,891 rows\n",
                        "12 columns\n",
                        "\n",
                        "['City', 'State', 'Median Age', 'Male Population', 'Female Population', 'Total Population', 'Number of Veterans', 'Foreign-born', 'Average Household Size', 'State Code', 'Race', 'Count']\n"
                    ]
                }
            ],
            "metadata": {}
        },
        {
            "cell_type": "markdown",
            "source": [
                "### Check number of `null` values per column"
            ],
            "metadata": {}
        },
        {
            "cell_type": "code",
            "execution_count": 7,
            "source": [
                "dem_null_counts = {col: dem.filter(dem[col].isNull()).count() for col in dem.columns}\n",
                "\n",
                "dem_null_counts"
            ],
            "outputs": [
                {
                    "output_type": "execute_result",
                    "data": {
                        "text/plain": [
                            "{'City': 0,\n",
                            " 'State': 0,\n",
                            " 'Median Age': 0,\n",
                            " 'Male Population': 3,\n",
                            " 'Female Population': 3,\n",
                            " 'Total Population': 0,\n",
                            " 'Number of Veterans': 13,\n",
                            " 'Foreign-born': 13,\n",
                            " 'Average Household Size': 16,\n",
                            " 'State Code': 0,\n",
                            " 'Race': 0,\n",
                            " 'Count': 0}"
                        ]
                    },
                    "metadata": {},
                    "execution_count": 7
                }
            ],
            "metadata": {}
        },
        {
            "cell_type": "markdown",
            "source": [
                "It can be seen that the dataset is in pretty good shape. The column of interest (`City`, `State`, `Total population`, `Race`, `Count`) don't have any missing values, so we don't want to remove any rows.\n",
                "\n",
                "We can however check some of the rows in which we have `null` entries."
            ],
            "metadata": {}
        },
        {
            "cell_type": "code",
            "execution_count": 10,
            "source": [
                "dem_pd = (\n",
                "    dem\n",
                "    .where(\n",
                "        F.col(\"Male Population\").isNull() | \n",
                "        F.col(\"Female Population\").isNull() | \n",
                "        F.col(\"Foreign-born\").isNull()\n",
                "    )\n",
                "    .toPandas()\n",
                ")\n",
                "\n",
                "dem_pd.sample(10)"
            ],
            "outputs": [
                {
                    "output_type": "execute_result",
                    "data": {
                        "text/plain": [
                            "            City        State Median Age Male Population Female Population  \\\n",
                            "12      Carolina  Puerto Rico       42.0           64758             77308   \n",
                            "11      Guaynabo  Puerto Rico       42.2           33066             37426   \n",
                            "14      Guaynabo  Puerto Rico       42.2           33066             37426   \n",
                            "15         Ponce  Puerto Rico       40.5           56968             64615   \n",
                            "9         Caguas  Puerto Rico       40.4           34743             42265   \n",
                            "5       San Juan  Puerto Rico       41.4          155408            186829   \n",
                            "7   The Villages      Florida       70.5            None              None   \n",
                            "10  The Villages      Florida       70.5            None              None   \n",
                            "13      Carolina  Puerto Rico       42.0           64758             77308   \n",
                            "0       Mayagüez  Puerto Rico       38.1           30799             35782   \n",
                            "\n",
                            "   Total Population Number of Veterans Foreign-born Average Household Size  \\\n",
                            "12           142066               None         None                   None   \n",
                            "11            70492               None         None                   None   \n",
                            "14            70492               None         None                   None   \n",
                            "15           121583               None         None                   None   \n",
                            "9             77008               None         None                   None   \n",
                            "5            342237               None         None                   None   \n",
                            "7             72590              15231         4034                   None   \n",
                            "10            72590              15231         4034                   None   \n",
                            "13           142066               None         None                   None   \n",
                            "0             66581               None         None                   None   \n",
                            "\n",
                            "   State Code                               Race   Count  \n",
                            "12         PR                 Hispanic or Latino  139967  \n",
                            "11         PR  American Indian and Alaska Native     589  \n",
                            "14         PR                 Hispanic or Latino   69936  \n",
                            "15         PR                 Hispanic or Latino  120705  \n",
                            "9          PR  American Indian and Alaska Native     624  \n",
                            "5          PR                 Hispanic or Latino  335559  \n",
                            "7          FL                              White   72211  \n",
                            "10         FL                 Hispanic or Latino    1066  \n",
                            "13         PR  American Indian and Alaska Native   12143  \n",
                            "0          PR                              Asian     235  "
                        ],
                        "text/html": [
                            "<div>\n",
                            "<style scoped>\n",
                            "    .dataframe tbody tr th:only-of-type {\n",
                            "        vertical-align: middle;\n",
                            "    }\n",
                            "\n",
                            "    .dataframe tbody tr th {\n",
                            "        vertical-align: top;\n",
                            "    }\n",
                            "\n",
                            "    .dataframe thead th {\n",
                            "        text-align: right;\n",
                            "    }\n",
                            "</style>\n",
                            "<table border=\"1\" class=\"dataframe\">\n",
                            "  <thead>\n",
                            "    <tr style=\"text-align: right;\">\n",
                            "      <th></th>\n",
                            "      <th>City</th>\n",
                            "      <th>State</th>\n",
                            "      <th>Median Age</th>\n",
                            "      <th>Male Population</th>\n",
                            "      <th>Female Population</th>\n",
                            "      <th>Total Population</th>\n",
                            "      <th>Number of Veterans</th>\n",
                            "      <th>Foreign-born</th>\n",
                            "      <th>Average Household Size</th>\n",
                            "      <th>State Code</th>\n",
                            "      <th>Race</th>\n",
                            "      <th>Count</th>\n",
                            "    </tr>\n",
                            "  </thead>\n",
                            "  <tbody>\n",
                            "    <tr>\n",
                            "      <th>12</th>\n",
                            "      <td>Carolina</td>\n",
                            "      <td>Puerto Rico</td>\n",
                            "      <td>42.0</td>\n",
                            "      <td>64758</td>\n",
                            "      <td>77308</td>\n",
                            "      <td>142066</td>\n",
                            "      <td>None</td>\n",
                            "      <td>None</td>\n",
                            "      <td>None</td>\n",
                            "      <td>PR</td>\n",
                            "      <td>Hispanic or Latino</td>\n",
                            "      <td>139967</td>\n",
                            "    </tr>\n",
                            "    <tr>\n",
                            "      <th>11</th>\n",
                            "      <td>Guaynabo</td>\n",
                            "      <td>Puerto Rico</td>\n",
                            "      <td>42.2</td>\n",
                            "      <td>33066</td>\n",
                            "      <td>37426</td>\n",
                            "      <td>70492</td>\n",
                            "      <td>None</td>\n",
                            "      <td>None</td>\n",
                            "      <td>None</td>\n",
                            "      <td>PR</td>\n",
                            "      <td>American Indian and Alaska Native</td>\n",
                            "      <td>589</td>\n",
                            "    </tr>\n",
                            "    <tr>\n",
                            "      <th>14</th>\n",
                            "      <td>Guaynabo</td>\n",
                            "      <td>Puerto Rico</td>\n",
                            "      <td>42.2</td>\n",
                            "      <td>33066</td>\n",
                            "      <td>37426</td>\n",
                            "      <td>70492</td>\n",
                            "      <td>None</td>\n",
                            "      <td>None</td>\n",
                            "      <td>None</td>\n",
                            "      <td>PR</td>\n",
                            "      <td>Hispanic or Latino</td>\n",
                            "      <td>69936</td>\n",
                            "    </tr>\n",
                            "    <tr>\n",
                            "      <th>15</th>\n",
                            "      <td>Ponce</td>\n",
                            "      <td>Puerto Rico</td>\n",
                            "      <td>40.5</td>\n",
                            "      <td>56968</td>\n",
                            "      <td>64615</td>\n",
                            "      <td>121583</td>\n",
                            "      <td>None</td>\n",
                            "      <td>None</td>\n",
                            "      <td>None</td>\n",
                            "      <td>PR</td>\n",
                            "      <td>Hispanic or Latino</td>\n",
                            "      <td>120705</td>\n",
                            "    </tr>\n",
                            "    <tr>\n",
                            "      <th>9</th>\n",
                            "      <td>Caguas</td>\n",
                            "      <td>Puerto Rico</td>\n",
                            "      <td>40.4</td>\n",
                            "      <td>34743</td>\n",
                            "      <td>42265</td>\n",
                            "      <td>77008</td>\n",
                            "      <td>None</td>\n",
                            "      <td>None</td>\n",
                            "      <td>None</td>\n",
                            "      <td>PR</td>\n",
                            "      <td>American Indian and Alaska Native</td>\n",
                            "      <td>624</td>\n",
                            "    </tr>\n",
                            "    <tr>\n",
                            "      <th>5</th>\n",
                            "      <td>San Juan</td>\n",
                            "      <td>Puerto Rico</td>\n",
                            "      <td>41.4</td>\n",
                            "      <td>155408</td>\n",
                            "      <td>186829</td>\n",
                            "      <td>342237</td>\n",
                            "      <td>None</td>\n",
                            "      <td>None</td>\n",
                            "      <td>None</td>\n",
                            "      <td>PR</td>\n",
                            "      <td>Hispanic or Latino</td>\n",
                            "      <td>335559</td>\n",
                            "    </tr>\n",
                            "    <tr>\n",
                            "      <th>7</th>\n",
                            "      <td>The Villages</td>\n",
                            "      <td>Florida</td>\n",
                            "      <td>70.5</td>\n",
                            "      <td>None</td>\n",
                            "      <td>None</td>\n",
                            "      <td>72590</td>\n",
                            "      <td>15231</td>\n",
                            "      <td>4034</td>\n",
                            "      <td>None</td>\n",
                            "      <td>FL</td>\n",
                            "      <td>White</td>\n",
                            "      <td>72211</td>\n",
                            "    </tr>\n",
                            "    <tr>\n",
                            "      <th>10</th>\n",
                            "      <td>The Villages</td>\n",
                            "      <td>Florida</td>\n",
                            "      <td>70.5</td>\n",
                            "      <td>None</td>\n",
                            "      <td>None</td>\n",
                            "      <td>72590</td>\n",
                            "      <td>15231</td>\n",
                            "      <td>4034</td>\n",
                            "      <td>None</td>\n",
                            "      <td>FL</td>\n",
                            "      <td>Hispanic or Latino</td>\n",
                            "      <td>1066</td>\n",
                            "    </tr>\n",
                            "    <tr>\n",
                            "      <th>13</th>\n",
                            "      <td>Carolina</td>\n",
                            "      <td>Puerto Rico</td>\n",
                            "      <td>42.0</td>\n",
                            "      <td>64758</td>\n",
                            "      <td>77308</td>\n",
                            "      <td>142066</td>\n",
                            "      <td>None</td>\n",
                            "      <td>None</td>\n",
                            "      <td>None</td>\n",
                            "      <td>PR</td>\n",
                            "      <td>American Indian and Alaska Native</td>\n",
                            "      <td>12143</td>\n",
                            "    </tr>\n",
                            "    <tr>\n",
                            "      <th>0</th>\n",
                            "      <td>Mayagüez</td>\n",
                            "      <td>Puerto Rico</td>\n",
                            "      <td>38.1</td>\n",
                            "      <td>30799</td>\n",
                            "      <td>35782</td>\n",
                            "      <td>66581</td>\n",
                            "      <td>None</td>\n",
                            "      <td>None</td>\n",
                            "      <td>None</td>\n",
                            "      <td>PR</td>\n",
                            "      <td>Asian</td>\n",
                            "      <td>235</td>\n",
                            "    </tr>\n",
                            "  </tbody>\n",
                            "</table>\n",
                            "</div>"
                        ]
                    },
                    "metadata": {},
                    "execution_count": 10
                }
            ],
            "metadata": {}
        },
        {
            "cell_type": "markdown",
            "source": [
                "### Check duplicate rows"
            ],
            "metadata": {}
        },
        {
            "cell_type": "code",
            "execution_count": 8,
            "source": [
                "dem_dups = (dem\n",
                "            .groupBy(dem.columns)\n",
                "            .agg(F.count(\"*\").cast(\"int\").alias(\"n_dups\"))\n",
                "            .where(F.col(\"n_dups\") > 1)\n",
                "            .select(F.sum(\"n_dups\"), F.count(\"n_dups\"))\n",
                ")\n",
                "\n",
                "dem_dups.show()"
            ],
            "outputs": [
                {
                    "output_type": "stream",
                    "name": "stdout",
                    "text": [
                        "+-----------+-------------+\n",
                        "|sum(n_dups)|count(n_dups)|\n",
                        "+-----------+-------------+\n",
                        "|       null|            0|\n",
                        "+-----------+-------------+\n",
                        "\n"
                    ]
                }
            ],
            "metadata": {}
        },
        {
            "cell_type": "markdown",
            "source": [
                "## Read US Immigration data"
            ],
            "metadata": {}
        },
        {
            "cell_type": "code",
            "execution_count": 16,
            "source": [
                "imm = dataio.read_immigration_raw(spark, \"./data/raw/immigration/i94_data.parquet\")\n",
                "\n",
                "print(f\"{imm.count():,} rows\")\n",
                "print(f\"{len(imm.columns)} columns\")\n",
                "print()\n",
                "print(imm.columns)"
            ],
            "outputs": [
                {
                    "output_type": "stream",
                    "name": "stdout",
                    "text": [
                        "40,790,529 rows\n",
                        "28 columns\n",
                        "\n",
                        "['cicid', 'i94yr', 'i94cit', 'i94res', 'i94port', 'arrdate', 'i94mode', 'i94addr', 'depdate', 'i94bir', 'i94visa', 'count', 'dtadfile', 'visapost', 'occup', 'entdepa', 'entdepd', 'entdepu', 'matflag', 'biryear', 'dtaddto', 'gender', 'insnum', 'airline', 'admnum', 'fltno', 'visatype', 'i94mon']\n"
                    ]
                }
            ],
            "metadata": {}
        },
        {
            "cell_type": "markdown",
            "source": [
                "### Count `null` values per column"
            ],
            "metadata": {}
        },
        {
            "cell_type": "code",
            "execution_count": 13,
            "source": [
                "imm_null_counts = {c: imm.filter(F.col(c).isNull()).count() for c in imm.columns}\n",
                "\n",
                "imm_null_counts"
            ],
            "outputs": [
                {
                    "output_type": "stream",
                    "name": "stderr",
                    "text": []
                },
                {
                    "output_type": "execute_result",
                    "data": {
                        "text/plain": [
                            "{'cicid': 0,\n",
                            " 'i94yr': 0,\n",
                            " 'i94cit': 28575,\n",
                            " 'i94res': 0,\n",
                            " 'i94port': 0,\n",
                            " 'arrdate': 0,\n",
                            " 'i94mode': 73949,\n",
                            " 'i94addr': 2027926,\n",
                            " 'depdate': 3308012,\n",
                            " 'i94bir': 9517,\n",
                            " 'i94visa': 0,\n",
                            " 'count': 0,\n",
                            " 'dtadfile': 131050,\n",
                            " 'visapost': 24032175,\n",
                            " 'occup': 40597574,\n",
                            " 'entdepa': 2404,\n",
                            " 'entdepd': 3287909,\n",
                            " 'entdepu': 40777323,\n",
                            " 'matflag': 3219581,\n",
                            " 'biryear': 9517,\n",
                            " 'dtaddto': 101551,\n",
                            " 'gender': 4079983,\n",
                            " 'insnum': 35710667,\n",
                            " 'airline': 1308066,\n",
                            " 'admnum': 0,\n",
                            " 'fltno': 333922,\n",
                            " 'visatype': 0,\n",
                            " 'i94mon': 0}"
                        ]
                    },
                    "metadata": {},
                    "execution_count": 13
                }
            ],
            "metadata": {}
        },
        {
            "cell_type": "markdown",
            "source": [
                "In this dataset we have many more `null` values. However, we are only interested in a few columns, so below we select only a subset of columns and drop all the rows that have any `null` entries. This is probably too restrictive, but given the amount of data available is okay."
            ],
            "metadata": {}
        },
        {
            "cell_type": "code",
            "execution_count": 17,
            "source": [
                "keep_cols = [\n",
                "    'cicid', 'i94yr', 'i94mon', 'i94cit', 'i94res', 'arrdate', 'i94addr', 'depdate', \n",
                "    'i94bir', 'biryear', 'gender', 'count', 'dtaddto', 'i94visa', 'visatype', 'admnum'\n",
                "]\n",
                "\n",
                "imm = imm.select(*keep_cols).dropna()\n",
                "\n",
                "print(f\"{imm.count():,} rows\")\n",
                "print(f\"{len(imm.columns)} columns\")"
            ],
            "outputs": [
                {
                    "output_type": "stream",
                    "name": "stderr",
                    "text": []
                },
                {
                    "output_type": "stream",
                    "name": "stdout",
                    "text": [
                        "31,927,685 rows\n",
                        "16 columns\n"
                    ]
                },
                {
                    "output_type": "stream",
                    "name": "stderr",
                    "text": []
                }
            ],
            "metadata": {}
        },
        {
            "cell_type": "markdown",
            "source": [
                "### Check for duplicate rows\n",
                "\n",
                "Given the size of the data and that many columns have `null` entries we are going to check for duplicates only in a subset of the columns.\n",
                "\n",
                ">__NOTE:__ Below cell will take a long time to run, depending on the amount of the memory available."
            ],
            "metadata": {}
        },
        {
            "cell_type": "code",
            "execution_count": 21,
            "source": [
                "imm_dups = (imm\n",
                "            .groupBy(\"cicid\", \"arrdate\", \"admnum\")\n",
                "            .agg(F.count(\"*\").cast(\"int\").alias(\"n_dups\"))\n",
                "            .where(F.col(\"n_dups\") > 1)\n",
                "            .select(F.sum(\"n_dups\"), F.count(\"n_dups\"))\n",
                ")\n",
                "\n",
                "imm_dups.show()"
            ],
            "outputs": [
                {
                    "output_type": "stream",
                    "name": "stderr",
                    "text": []
                },
                {
                    "output_type": "stream",
                    "name": "stdout",
                    "text": [
                        "+-----------+-------------+\n",
                        "|sum(n_dups)|count(n_dups)|\n",
                        "+-----------+-------------+\n",
                        "|       null|            0|\n",
                        "+-----------+-------------+\n",
                        "\n"
                    ]
                },
                {
                    "output_type": "stream",
                    "name": "stderr",
                    "text": []
                }
            ],
            "metadata": {}
        },
        {
            "cell_type": "markdown",
            "source": [
                "Below we can show a few rows of the raw data. \n",
                "\n",
                ">__NOTE:__ At this stage the data types were already fixed when the `sas` data was written to `parquet`."
            ],
            "metadata": {}
        },
        {
            "cell_type": "code",
            "execution_count": 26,
            "source": [
                "imm.limit(10).toPandas()"
            ],
            "outputs": [
                {
                    "output_type": "execute_result",
                    "data": {
                        "text/plain": [
                            "     cicid  i94yr  i94mon i94cit i94res  arrdate i94addr  depdate  i94bir  \\\n",
                            "0  4444623   2016       7    254    276    20654      CA    20657      23   \n",
                            "1  4444624   2016       7    254    276    20654      GA    20657      27   \n",
                            "2  4444625   2016       7    254    276    20654      MA    20657      52   \n",
                            "3  4444626   2016       7    254    276    20654      NY    20656      44   \n",
                            "4  4444627   2016       7    254    276    20654      FL    20658      43   \n",
                            "5  4444629   2016       7    254    276    20654      CA    20658       7   \n",
                            "6  4444630   2016       7    254    276    20654      FL    20658      15   \n",
                            "7  4444631   2016       7    254    276    20654      NY    20658      17   \n",
                            "8  4444632   2016       7    254    276    20654      GU    20657      34   \n",
                            "9  4444633   2016       7    254    276    20654      GU    20657      44   \n",
                            "\n",
                            "   biryear gender  count   dtaddto i94visa visatype      admnum  \n",
                            "0     1993      U      1  08312016       2      GMT  2147483647  \n",
                            "1     1989      F      1  08312016       2      GMT  2147483647  \n",
                            "2     1964      F      1  08312016       2      GMT  2147483647  \n",
                            "3     1972      M      1  09012016       2      GMT  2147483647  \n",
                            "4     1973      F      1  09012016       2      GMT  2147483647  \n",
                            "5     2009      F      1  09012016       2      GMT  2147483647  \n",
                            "6     2001      F      1  09012016       2      GMT  2147483647  \n",
                            "7     1999      F      1  09012016       2      GMT  2147483647  \n",
                            "8     1982      F      1  09012016       2      GMT  2147483647  \n",
                            "9     1972      M      1  09012016       2      GMT  2147483647  "
                        ],
                        "text/html": [
                            "<div>\n",
                            "<style scoped>\n",
                            "    .dataframe tbody tr th:only-of-type {\n",
                            "        vertical-align: middle;\n",
                            "    }\n",
                            "\n",
                            "    .dataframe tbody tr th {\n",
                            "        vertical-align: top;\n",
                            "    }\n",
                            "\n",
                            "    .dataframe thead th {\n",
                            "        text-align: right;\n",
                            "    }\n",
                            "</style>\n",
                            "<table border=\"1\" class=\"dataframe\">\n",
                            "  <thead>\n",
                            "    <tr style=\"text-align: right;\">\n",
                            "      <th></th>\n",
                            "      <th>cicid</th>\n",
                            "      <th>i94yr</th>\n",
                            "      <th>i94mon</th>\n",
                            "      <th>i94cit</th>\n",
                            "      <th>i94res</th>\n",
                            "      <th>arrdate</th>\n",
                            "      <th>i94addr</th>\n",
                            "      <th>depdate</th>\n",
                            "      <th>i94bir</th>\n",
                            "      <th>biryear</th>\n",
                            "      <th>gender</th>\n",
                            "      <th>count</th>\n",
                            "      <th>dtaddto</th>\n",
                            "      <th>i94visa</th>\n",
                            "      <th>visatype</th>\n",
                            "      <th>admnum</th>\n",
                            "    </tr>\n",
                            "  </thead>\n",
                            "  <tbody>\n",
                            "    <tr>\n",
                            "      <th>0</th>\n",
                            "      <td>4444623</td>\n",
                            "      <td>2016</td>\n",
                            "      <td>7</td>\n",
                            "      <td>254</td>\n",
                            "      <td>276</td>\n",
                            "      <td>20654</td>\n",
                            "      <td>CA</td>\n",
                            "      <td>20657</td>\n",
                            "      <td>23</td>\n",
                            "      <td>1993</td>\n",
                            "      <td>U</td>\n",
                            "      <td>1</td>\n",
                            "      <td>08312016</td>\n",
                            "      <td>2</td>\n",
                            "      <td>GMT</td>\n",
                            "      <td>2147483647</td>\n",
                            "    </tr>\n",
                            "    <tr>\n",
                            "      <th>1</th>\n",
                            "      <td>4444624</td>\n",
                            "      <td>2016</td>\n",
                            "      <td>7</td>\n",
                            "      <td>254</td>\n",
                            "      <td>276</td>\n",
                            "      <td>20654</td>\n",
                            "      <td>GA</td>\n",
                            "      <td>20657</td>\n",
                            "      <td>27</td>\n",
                            "      <td>1989</td>\n",
                            "      <td>F</td>\n",
                            "      <td>1</td>\n",
                            "      <td>08312016</td>\n",
                            "      <td>2</td>\n",
                            "      <td>GMT</td>\n",
                            "      <td>2147483647</td>\n",
                            "    </tr>\n",
                            "    <tr>\n",
                            "      <th>2</th>\n",
                            "      <td>4444625</td>\n",
                            "      <td>2016</td>\n",
                            "      <td>7</td>\n",
                            "      <td>254</td>\n",
                            "      <td>276</td>\n",
                            "      <td>20654</td>\n",
                            "      <td>MA</td>\n",
                            "      <td>20657</td>\n",
                            "      <td>52</td>\n",
                            "      <td>1964</td>\n",
                            "      <td>F</td>\n",
                            "      <td>1</td>\n",
                            "      <td>08312016</td>\n",
                            "      <td>2</td>\n",
                            "      <td>GMT</td>\n",
                            "      <td>2147483647</td>\n",
                            "    </tr>\n",
                            "    <tr>\n",
                            "      <th>3</th>\n",
                            "      <td>4444626</td>\n",
                            "      <td>2016</td>\n",
                            "      <td>7</td>\n",
                            "      <td>254</td>\n",
                            "      <td>276</td>\n",
                            "      <td>20654</td>\n",
                            "      <td>NY</td>\n",
                            "      <td>20656</td>\n",
                            "      <td>44</td>\n",
                            "      <td>1972</td>\n",
                            "      <td>M</td>\n",
                            "      <td>1</td>\n",
                            "      <td>09012016</td>\n",
                            "      <td>2</td>\n",
                            "      <td>GMT</td>\n",
                            "      <td>2147483647</td>\n",
                            "    </tr>\n",
                            "    <tr>\n",
                            "      <th>4</th>\n",
                            "      <td>4444627</td>\n",
                            "      <td>2016</td>\n",
                            "      <td>7</td>\n",
                            "      <td>254</td>\n",
                            "      <td>276</td>\n",
                            "      <td>20654</td>\n",
                            "      <td>FL</td>\n",
                            "      <td>20658</td>\n",
                            "      <td>43</td>\n",
                            "      <td>1973</td>\n",
                            "      <td>F</td>\n",
                            "      <td>1</td>\n",
                            "      <td>09012016</td>\n",
                            "      <td>2</td>\n",
                            "      <td>GMT</td>\n",
                            "      <td>2147483647</td>\n",
                            "    </tr>\n",
                            "    <tr>\n",
                            "      <th>5</th>\n",
                            "      <td>4444629</td>\n",
                            "      <td>2016</td>\n",
                            "      <td>7</td>\n",
                            "      <td>254</td>\n",
                            "      <td>276</td>\n",
                            "      <td>20654</td>\n",
                            "      <td>CA</td>\n",
                            "      <td>20658</td>\n",
                            "      <td>7</td>\n",
                            "      <td>2009</td>\n",
                            "      <td>F</td>\n",
                            "      <td>1</td>\n",
                            "      <td>09012016</td>\n",
                            "      <td>2</td>\n",
                            "      <td>GMT</td>\n",
                            "      <td>2147483647</td>\n",
                            "    </tr>\n",
                            "    <tr>\n",
                            "      <th>6</th>\n",
                            "      <td>4444630</td>\n",
                            "      <td>2016</td>\n",
                            "      <td>7</td>\n",
                            "      <td>254</td>\n",
                            "      <td>276</td>\n",
                            "      <td>20654</td>\n",
                            "      <td>FL</td>\n",
                            "      <td>20658</td>\n",
                            "      <td>15</td>\n",
                            "      <td>2001</td>\n",
                            "      <td>F</td>\n",
                            "      <td>1</td>\n",
                            "      <td>09012016</td>\n",
                            "      <td>2</td>\n",
                            "      <td>GMT</td>\n",
                            "      <td>2147483647</td>\n",
                            "    </tr>\n",
                            "    <tr>\n",
                            "      <th>7</th>\n",
                            "      <td>4444631</td>\n",
                            "      <td>2016</td>\n",
                            "      <td>7</td>\n",
                            "      <td>254</td>\n",
                            "      <td>276</td>\n",
                            "      <td>20654</td>\n",
                            "      <td>NY</td>\n",
                            "      <td>20658</td>\n",
                            "      <td>17</td>\n",
                            "      <td>1999</td>\n",
                            "      <td>F</td>\n",
                            "      <td>1</td>\n",
                            "      <td>09012016</td>\n",
                            "      <td>2</td>\n",
                            "      <td>GMT</td>\n",
                            "      <td>2147483647</td>\n",
                            "    </tr>\n",
                            "    <tr>\n",
                            "      <th>8</th>\n",
                            "      <td>4444632</td>\n",
                            "      <td>2016</td>\n",
                            "      <td>7</td>\n",
                            "      <td>254</td>\n",
                            "      <td>276</td>\n",
                            "      <td>20654</td>\n",
                            "      <td>GU</td>\n",
                            "      <td>20657</td>\n",
                            "      <td>34</td>\n",
                            "      <td>1982</td>\n",
                            "      <td>F</td>\n",
                            "      <td>1</td>\n",
                            "      <td>09012016</td>\n",
                            "      <td>2</td>\n",
                            "      <td>GMT</td>\n",
                            "      <td>2147483647</td>\n",
                            "    </tr>\n",
                            "    <tr>\n",
                            "      <th>9</th>\n",
                            "      <td>4444633</td>\n",
                            "      <td>2016</td>\n",
                            "      <td>7</td>\n",
                            "      <td>254</td>\n",
                            "      <td>276</td>\n",
                            "      <td>20654</td>\n",
                            "      <td>GU</td>\n",
                            "      <td>20657</td>\n",
                            "      <td>44</td>\n",
                            "      <td>1972</td>\n",
                            "      <td>M</td>\n",
                            "      <td>1</td>\n",
                            "      <td>09012016</td>\n",
                            "      <td>2</td>\n",
                            "      <td>GMT</td>\n",
                            "      <td>2147483647</td>\n",
                            "    </tr>\n",
                            "  </tbody>\n",
                            "</table>\n",
                            "</div>"
                        ]
                    },
                    "metadata": {},
                    "execution_count": 26
                }
            ],
            "metadata": {}
        },
        {
            "cell_type": "markdown",
            "source": [
                "## Data Processing Steps\n",
                "\n",
                "At this stage we can proceed with the ETL steps."
            ],
            "metadata": {}
        }
    ],
    "metadata": {
        "orig_nbformat": 4,
        "language_info": {
            "name": "python",
            "version": "3.9.5",
            "mimetype": "text/x-python",
            "codemirror_mode": {
                "name": "ipython",
                "version": 3
            },
            "pygments_lexer": "ipython3",
            "nbconvert_exporter": "python",
            "file_extension": ".py"
        },
        "kernelspec": {
            "name": "python3",
            "display_name": "Python 3.9.5 64-bit ('pyspark-env': conda)"
        },
        "interpreter": {
            "hash": "c1c5dc285a9855a44140f64ae254eabf98657a08a98c1b83785289dc822f18d8"
        }
    },
    "nbformat": 4,
    "nbformat_minor": 2
}