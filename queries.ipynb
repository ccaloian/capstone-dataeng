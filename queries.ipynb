{
 "cells": [
  {
   "cell_type": "markdown",
   "source": [
    "# Sample Queries"
   ],
   "metadata": {}
  },
  {
   "cell_type": "code",
   "execution_count": 1,
   "source": [
    "import pyspark.sql.functions as F\n",
    "import etl"
   ],
   "outputs": [],
   "metadata": {}
  },
  {
   "cell_type": "markdown",
   "source": [
    "## Run Demographic Pipeline"
   ],
   "metadata": {}
  },
  {
   "cell_type": "code",
   "execution_count": 3,
   "source": [
    "dem_etl = etl.DemographicsPipeline()\n",
    "dem_etl.spark.sparkContext.setLogLevel(\"ERROR\")\n",
    "dem = dem_etl.run()\n",
    "dem.printSchema()"
   ],
   "outputs": [
    {
     "output_type": "stream",
     "name": "stderr",
     "text": []
    },
    {
     "output_type": "stream",
     "name": "stdout",
     "text": [
      "root\n",
      " |-- state: string (nullable = true)\n",
      " |-- state_code: string (nullable = true)\n",
      " |-- num_cities: long (nullable = false)\n",
      " |-- total_pop: double (nullable = true)\n",
      " |-- amind_pop: long (nullable = true)\n",
      " |-- asian_pop: long (nullable = true)\n",
      " |-- afram_pop: long (nullable = true)\n",
      " |-- hispl_pop: long (nullable = true)\n",
      " |-- white_pop: long (nullable = true)\n",
      "\n"
     ]
    },
    {
     "output_type": "stream",
     "name": "stderr",
     "text": []
    }
   ],
   "metadata": {}
  },
  {
   "cell_type": "markdown",
   "source": [
    "## Run Immigration Pipeline"
   ],
   "metadata": {}
  },
  {
   "cell_type": "code",
   "execution_count": 4,
   "source": [
    "imm_etl = etl.ImmigrationPipeline()\n",
    "imm_etl.spark.sparkContext.setLogLevel(\"ERROR\")\n",
    "imm = imm_etl.run()\n",
    "imm.printSchema()"
   ],
   "outputs": [
    {
     "output_type": "stream",
     "name": "stderr",
     "text": []
    },
    {
     "output_type": "stream",
     "name": "stdout",
     "text": [
      "root\n",
      " |-- cicid: integer (nullable = true)\n",
      " |-- i94yr: integer (nullable = true)\n",
      " |-- i94mon: integer (nullable = true)\n",
      " |-- i94cit: string (nullable = true)\n",
      " |-- i94res: string (nullable = true)\n",
      " |-- arrdate: date (nullable = true)\n",
      " |-- i94addr: string (nullable = true)\n",
      " |-- depdate: date (nullable = true)\n",
      " |-- dtadfile: date (nullable = true)\n",
      " |-- i94bir: integer (nullable = true)\n",
      " |-- biryear: integer (nullable = true)\n",
      " |-- gender: string (nullable = true)\n",
      " |-- count: integer (nullable = true)\n",
      " |-- dtaddto: date (nullable = true)\n",
      " |-- i94visa: string (nullable = true)\n",
      " |-- visatype: string (nullable = true)\n",
      " |-- admnum: integer (nullable = true)\n",
      " |-- state: string (nullable = true)\n",
      "\n"
     ]
    },
    {
     "output_type": "stream",
     "name": "stderr",
     "text": []
    }
   ],
   "metadata": {}
  },
  {
   "cell_type": "markdown",
   "source": [
    "## Number of visitors per state"
   ],
   "metadata": {}
  },
  {
   "cell_type": "code",
   "execution_count": 16,
   "source": [
    "state_visa_agg = (\n",
    "    imm\n",
    "    .groupby(\"state\", \"i94addr\")\n",
    "    .agg(\n",
    "        F.count(\"i94visa\").alias(\"i94visa_count\")\n",
    "    )\n",
    "    .orderBy(F.col(\"state\"))\n",
    ")\n",
    "\n",
    "state_visa_agg.show(20)"
   ],
   "outputs": [
    {
     "output_type": "stream",
     "name": "stderr",
     "text": []
    },
    {
     "output_type": "stream",
     "name": "stdout",
     "text": [
      "+-----------------+-------+-------------+\n",
      "|            state|i94addr|i94visa_count|\n",
      "+-----------------+-------+-------------+\n",
      "|          ALABAMA|     AL|        56299|\n",
      "|           ALASKA|     AK|        58125|\n",
      "|          ARIZONA|     AZ|       181216|\n",
      "|         ARKANSAS|     AR|        25277|\n",
      "|  All Other Codes|     99|          769|\n",
      "|       CALIFORNIA|     CA|      4565383|\n",
      "|         COLORADO|     CO|       220811|\n",
      "|      CONNECTICUT|     CT|       125888|\n",
      "|         DELAWARE|     DE|        27365|\n",
      "|DIST. OF COLUMBIA|     DC|       253725|\n",
      "|          FLORIDA|     FL|      6522473|\n",
      "|          GEORGIA|     GA|       304366|\n",
      "|             GUAM|     GU|       296626|\n",
      "|           HAWAII|     HI|      1759009|\n",
      "|            IDAHO|     ID|        20889|\n",
      "|         ILLINOIS|     IL|       739628|\n",
      "|          INDIANA|     IN|        87127|\n",
      "|             IOWA|     IA|        30544|\n",
      "|           KANSAS|     KS|        26259|\n",
      "|         KENTUCKY|     KY|        42094|\n",
      "+-----------------+-------+-------------+\n",
      "only showing top 20 rows\n",
      "\n"
     ]
    },
    {
     "output_type": "stream",
     "name": "stderr",
     "text": []
    }
   ],
   "metadata": {}
  },
  {
   "cell_type": "markdown",
   "source": [
    "## Join demographics and visa entries per state"
   ],
   "metadata": {}
  },
  {
   "cell_type": "code",
   "execution_count": 17,
   "source": [
    "pop_agg = (\n",
    "    dem\n",
    "    .join(\n",
    "        state_visa_agg.drop(\"state\"), \n",
    "        on=[dem[\"state_code\"] == state_visa_agg[\"i94addr\"]]\n",
    "    )\n",
    "    .drop(\"i94addr\")\n",
    ")\n",
    "\n",
    "pop_agg.show(20, False)"
   ],
   "outputs": [
    {
     "output_type": "stream",
     "name": "stderr",
     "text": []
    },
    {
     "output_type": "stream",
     "name": "stdout",
     "text": [
      "+--------------------+----------+----------+----------+---------+---------+---------+---------+---------+-------------+\n",
      "|state               |state_code|num_cities|total_pop |amind_pop|asian_pop|afram_pop|hispl_pop|white_pop|i94visa_count|\n",
      "+--------------------+----------+----------+----------+---------+---------+---------+---------+---------+-------------+\n",
      "|Arizona             |AZ        |16        |4499542.0 |129708   |229183   |296222   |1508157  |3591611  |181216       |\n",
      "|South Carolina      |SC        |5         |533657.0  |3705     |13355    |175064   |29863    |343764   |62319        |\n",
      "|Louisiana           |LA        |8         |1300595.0 |8263     |38739    |602377   |87133    |654578   |160390       |\n",
      "|Minnesota           |MN        |11        |1422403.0 |25242    |151544   |216731   |103229   |1050239  |112664       |\n",
      "|New Jersey          |NJ        |12        |1428908.0 |11350    |116844   |452202   |600437   |615083   |710944       |\n",
      "|District of Columbia|DC        |1         |672228.0  |6130     |35072    |328786   |71129    |285402   |253725       |\n",
      "|Oregon              |OR        |8         |1436509.0 |38597    |117279   |72150    |201498   |1235819  |128735       |\n",
      "|Virginia            |VA        |14        |2363622.0 |26160    |167784   |771569   |216760   |1428158  |283996       |\n",
      "|Rhode Island        |RI        |4         |413562.0  |6369     |24245    |55556    |109226   |287304   |31583        |\n",
      "|Kentucky            |KY        |2         |929877.0  |7772     |32667    |202749   |50478    |705790   |42094        |\n",
      "|New Hampshire       |NH        |2         |198198.0  |1213     |13989    |11043    |22473    |174085   |34607        |\n",
      "|Michigan            |MI        |16        |2203460.0 |27962    |125172   |853877   |149932   |1214721  |251203       |\n",
      "|Nevada              |NV        |9         |2240744.0 |35390    |254593   |269791   |689798   |1531724  |1099795      |\n",
      "|Wisconsin           |WI        |9         |1413145.0 |24720    |73982    |316896   |202117   |974433   |74822        |\n",
      "|Idaho               |ID        |3         |398883.0  |6705     |13985    |7822     |48142    |370314   |20889        |\n",
      "|California          |CA        |137       |2.482246E7|401386   |4543730  |2047009  |9856464  |14905129 |4565383      |\n",
      "|Connecticut         |CT        |8         |885581.0  |10729    |48311    |231822   |309992   |505674   |125888       |\n",
      "|Nebraska            |NE        |2         |721233.0  |10599    |34243    |80668    |83812    |600094   |202755       |\n",
      "|Montana             |MT        |2         |181294.0  |9684     |4165     |3349     |10000    |169026   |23220        |\n",
      "|North Carolina      |NC        |14        |3060199.0 |35209    |178740   |1029446  |354409   |1790136  |197872       |\n",
      "+--------------------+----------+----------+----------+---------+---------+---------+---------+---------+-------------+\n",
      "only showing top 20 rows\n",
      "\n"
     ]
    },
    {
     "output_type": "stream",
     "name": "stderr",
     "text": []
    }
   ],
   "metadata": {}
  }
 ],
 "metadata": {
  "orig_nbformat": 4,
  "language_info": {
   "name": "python",
   "version": "3.9.5",
   "mimetype": "text/x-python",
   "codemirror_mode": {
    "name": "ipython",
    "version": 3
   },
   "pygments_lexer": "ipython3",
   "nbconvert_exporter": "python",
   "file_extension": ".py"
  },
  "kernelspec": {
   "name": "python3",
   "display_name": "Python 3.9.5 64-bit ('pyspark-env': conda)"
  },
  "interpreter": {
   "hash": "c1c5dc285a9855a44140f64ae254eabf98657a08a98c1b83785289dc822f18d8"
  }
 },
 "nbformat": 4,
 "nbformat_minor": 2
}